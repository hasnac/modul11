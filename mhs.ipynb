{
 "cells": [
  {
   "cell_type": "code",
   "execution_count": 1,
   "id": "5abea9c2-8f18-4045-96de-81389308bb87",
   "metadata": {},
   "outputs": [
    {
     "name": "stdin",
     "output_type": "stream",
     "text": [
      "Masukkan nama:  Hasna Choirunnisa\n",
      "Masukkan NIM:  065002400038\n",
      "Masukkan tahun masuk:  2024\n"
     ]
    },
    {
     "name": "stdout",
     "output_type": "stream",
     "text": [
      "Nama : Hasna Choirunnisa\n",
      "NIM : 065002400038\n",
      "Angkatan : 2024\n",
      "Total Mahasiswa 1\n"
     ]
    }
   ],
   "source": [
    "class Biodata:\n",
    "    mhsCount = 0\n",
    "    def __init__(self, name, nim, year): \n",
    "        self.name = name\n",
    "        self.nim = nim\n",
    "        self.year = year\n",
    "        Biodata.mhsCount += 1\n",
    "    def displayCount(self):\n",
    "        print(\"Total Mahasiswa %d\" % Biodata.mhsCount)\n",
    "\n",
    "name1 = input(\"Masukkan nama: \")\n",
    "nim1 = input(\"Masukkan NIM: \")\n",
    "year1 = input(\"Masukkan tahun masuk: \")\n",
    "mhs1 = Biodata(name1, nim1, year1)\n",
    "print(f\"Nama : {mhs1.name}\")  \n",
    "print(f\"NIM : {mhs1.nim}\")\n",
    "print(f\"Angkatan : {mhs1.year}\")\n",
    "print(\"Total Mahasiswa %d\" % Biodata.mhsCount)"
   ]
  },
  {
   "cell_type": "code",
   "execution_count": null,
   "id": "f7729050-34f5-403c-958f-c4a3fd0be527",
   "metadata": {},
   "outputs": [],
   "source": []
  }
 ],
 "metadata": {
  "kernelspec": {
   "display_name": "Python 3 (ipykernel)",
   "language": "python",
   "name": "python3"
  },
  "language_info": {
   "codemirror_mode": {
    "name": "ipython",
    "version": 3
   },
   "file_extension": ".py",
   "mimetype": "text/x-python",
   "name": "python",
   "nbconvert_exporter": "python",
   "pygments_lexer": "ipython3",
   "version": "3.12.4"
  }
 },
 "nbformat": 4,
 "nbformat_minor": 5
}
